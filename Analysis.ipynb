{
 "cells": [
  {
   "cell_type": "code",
   "execution_count": 21,
   "id": "538bacf6-d64c-4425-b1eb-017d31f1b80a",
   "metadata": {},
   "outputs": [
    {
     "name": "stdout",
     "output_type": "stream",
     "text": [
      "local - - [24/Oct/1994:13:41:41 -0600] \"GET index.html HTTP/1.0\" 200 150\n",
      "\n",
      "local - - [24/Oct/1994:13:41:41 -0600] \"GET 1.gif HTTP/1.0\" 200 1210\n",
      "\n",
      "local - - [24/Oct/1994:13:43:13 -0600] \"GET index.html HTTP/1.0\" 200 3185\n",
      "\n",
      "local - - [24/Oct/1994:13:43:14 -0600] \"GET 2.gif HTTP/1.0\" 200 2555\n",
      "\n",
      "local - - [24/Oct/1994:13:43:15 -0600] \"GET 3.gif HTTP/1.0\" 200 36403\n",
      "\n"
     ]
    }
   ],
   "source": [
    "filepath = r\"C:\\Users\\HP\\Downloads\\calgary_access_log\"\n",
    "with open(filepath, \"rt\", encoding = \"utf-8\", errors = \"ignore\") as logs:\n",
    "    for i in range(5):\n",
    "        print(logs.readline())"
   ]
  },
  {
   "cell_type": "code",
   "execution_count": 24,
   "id": "6b5f6d69-a379-4d7d-b1e2-247f3c300b8f",
   "metadata": {},
   "outputs": [
    {
     "name": "stdout",
     "output_type": "stream",
     "text": [
      "Valid Log Entries 724836\n",
      "Invalid Log Entries 1903\n",
      "    host                   timestamp                  Request Status   size\n",
      "0  local  24/Oct/1994:13:41:41 -0600  GET index.html HTTP/1.0    200    150\n",
      "1  local  24/Oct/1994:13:41:41 -0600       GET 1.gif HTTP/1.0    200   1210\n",
      "2  local  24/Oct/1994:13:43:13 -0600  GET index.html HTTP/1.0    200   3185\n",
      "3  local  24/Oct/1994:13:43:14 -0600       GET 2.gif HTTP/1.0    200   2555\n",
      "4  local  24/Oct/1994:13:43:15 -0600       GET 3.gif HTTP/1.0    200  36403\n"
     ]
    }
   ],
   "source": [
    "import pandas as pd\n",
    "import re\n",
    "import os\n",
    "import sys\n",
    "from datetime import datetime\n",
    "\n",
    "filepath = r\"C:\\Users\\HP\\Downloads\\calgary_access_log\"\n",
    "\n",
    "# Checking file availability\n",
    "if not os.path.isfile(filepath):\n",
    "    raise FileNotFoundError (f\"file not found {filepath}\")\n",
    "\n",
    "# regex pattern\n",
    "log_pattern = re.compile(\n",
    "    r'(?P<host>\\S+) '                \n",
    "    r'\\S+ \\S+ '                       \n",
    "    r'\\[(?P<timestamp>[^\\]]+)\\] '     \n",
    "    r'\"(?P<Request>[^\"]+)\" '         \n",
    "    r'(?P<Status>\\d{3}) '            \n",
    "    r'(?P<size>\\S+)'                 \n",
    ")\n",
    "\n",
    "\n",
    "# Fucntion to parse line using regex\n",
    "\n",
    "def parse_line(line):\n",
    "    match = log_pattern.match(line)\n",
    "    if match:\n",
    "        return match.groupdict()\n",
    "    else:\n",
    "        return None\n",
    "        \n",
    "valid_entry = []\n",
    "invalid_entry = []\n",
    "\n",
    "# Exception handling try/Except block\n",
    "try:\n",
    "    with open(filepath, 'rt', encoding = 'utf-8', errors = 'ignore') as logs:\n",
    "       for line_number , line in enumerate(logs,1):\n",
    "           parsed = parse_line(line) #Calling the function\n",
    "           if parsed:\n",
    "               valid_entry.append(parsed)\n",
    "           else:\n",
    "               invalid_entry.append({'line_number': line_number, 'raw_line': line.strip()})\n",
    "\n",
    "except FileNotFoundError:\n",
    "      print(f\"File {filepath} does not exist.\")\n",
    "      sys.exit(1)\n",
    "\n",
    "except Exception as e:\n",
    "      print(f\"An unexpected error occured during file reading {e}\")\n",
    "      sys.exit(1)\n",
    "\n",
    "# flag invalid log_entries\n",
    "\n",
    "df = pd.DataFrame(valid_entry)\n",
    "df_invalid = pd.DataFrame(invalid_entry)\n",
    "\n",
    "print(f\"Valid Log Entries {len(df)}\")\n",
    "print(f\"Invalid Log Entries {len(df_invalid)}\")\n",
    "\n",
    "\n",
    "print(df.head())\n"
   ]
  },
  {
   "cell_type": "code",
   "execution_count": 25,
   "id": "60b98b18-04c4-4df4-aff3-6bad63e8939a",
   "metadata": {},
   "outputs": [
    {
     "name": "stdout",
     "output_type": "stream",
     "text": [
      "<class 'pandas.core.frame.DataFrame'>\n",
      "RangeIndex: 724836 entries, 0 to 724835\n",
      "Data columns (total 5 columns):\n",
      " #   Column     Non-Null Count   Dtype \n",
      "---  ------     --------------   ----- \n",
      " 0   host       724836 non-null  object\n",
      " 1   timestamp  724836 non-null  object\n",
      " 2   Request    724836 non-null  object\n",
      " 3   Status     724836 non-null  object\n",
      " 4   size       724836 non-null  object\n",
      "dtypes: object(5)\n",
      "memory usage: 27.7+ MB\n"
     ]
    }
   ],
   "source": [
    "df.info()"
   ]
  },
  {
   "cell_type": "code",
   "execution_count": 26,
   "id": "11495be5-930c-464c-8e04-173c72c561b4",
   "metadata": {},
   "outputs": [
    {
     "data": {
      "text/html": [
       "<div>\n",
       "<style scoped>\n",
       "    .dataframe tbody tr th:only-of-type {\n",
       "        vertical-align: middle;\n",
       "    }\n",
       "\n",
       "    .dataframe tbody tr th {\n",
       "        vertical-align: top;\n",
       "    }\n",
       "\n",
       "    .dataframe thead th {\n",
       "        text-align: right;\n",
       "    }\n",
       "</style>\n",
       "<table border=\"1\" class=\"dataframe\">\n",
       "  <thead>\n",
       "    <tr style=\"text-align: right;\">\n",
       "      <th></th>\n",
       "      <th>host</th>\n",
       "      <th>timestamp</th>\n",
       "      <th>Request</th>\n",
       "      <th>Status</th>\n",
       "      <th>size</th>\n",
       "    </tr>\n",
       "  </thead>\n",
       "  <tbody>\n",
       "    <tr>\n",
       "      <th>724831</th>\n",
       "      <td>local</td>\n",
       "      <td>11/Oct/1995:14:11:39 -0600</td>\n",
       "      <td>GET 2.gif HTTP/1.0</td>\n",
       "      <td>200</td>\n",
       "      <td>2555</td>\n",
       "    </tr>\n",
       "    <tr>\n",
       "      <th>724832</th>\n",
       "      <td>local</td>\n",
       "      <td>11/Oct/1995:14:11:40 -0600</td>\n",
       "      <td>GET 3.gif HTTP/1.0</td>\n",
       "      <td>200</td>\n",
       "      <td>36403</td>\n",
       "    </tr>\n",
       "    <tr>\n",
       "      <th>724833</th>\n",
       "      <td>local</td>\n",
       "      <td>11/Oct/1995:14:11:45 -0600</td>\n",
       "      <td>GET 11459.html HTTP/1.0</td>\n",
       "      <td>404</td>\n",
       "      <td>-</td>\n",
       "    </tr>\n",
       "    <tr>\n",
       "      <th>724834</th>\n",
       "      <td>local</td>\n",
       "      <td>11/Oct/1995:14:11:58 -0600</td>\n",
       "      <td>GET 11459.html HTTP/1.0</td>\n",
       "      <td>404</td>\n",
       "      <td>-</td>\n",
       "    </tr>\n",
       "    <tr>\n",
       "      <th>724835</th>\n",
       "      <td>local</td>\n",
       "      <td>11/Oct/1995:14:14:17 -0600</td>\n",
       "      <td>GET index.html HTTP/1.0</td>\n",
       "      <td>304</td>\n",
       "      <td>0</td>\n",
       "    </tr>\n",
       "  </tbody>\n",
       "</table>\n",
       "</div>"
      ],
      "text/plain": [
       "         host                   timestamp                  Request Status  \\\n",
       "724831  local  11/Oct/1995:14:11:39 -0600       GET 2.gif HTTP/1.0    200   \n",
       "724832  local  11/Oct/1995:14:11:40 -0600       GET 3.gif HTTP/1.0    200   \n",
       "724833  local  11/Oct/1995:14:11:45 -0600  GET 11459.html HTTP/1.0    404   \n",
       "724834  local  11/Oct/1995:14:11:58 -0600  GET 11459.html HTTP/1.0    404   \n",
       "724835  local  11/Oct/1995:14:14:17 -0600  GET index.html HTTP/1.0    304   \n",
       "\n",
       "         size  \n",
       "724831   2555  \n",
       "724832  36403  \n",
       "724833      -  \n",
       "724834      -  \n",
       "724835      0  "
      ]
     },
     "execution_count": 26,
     "metadata": {},
     "output_type": "execute_result"
    }
   ],
   "source": [
    "df.tail()"
   ]
  },
  {
   "cell_type": "code",
   "execution_count": 27,
   "id": "743b7d94-51c3-438b-bf29-9b0982fb67ba",
   "metadata": {},
   "outputs": [],
   "source": [
    "## Cleaning the column size setting '-' to 0\n",
    "df['size'] = df['size'].replace('-', 0).astype(int)"
   ]
  },
  {
   "cell_type": "code",
   "execution_count": 28,
   "id": "45ecf99e-6f94-4b3e-ac9e-9b63f75d30c2",
   "metadata": {},
   "outputs": [
    {
     "data": {
      "text/html": [
       "<div>\n",
       "<style scoped>\n",
       "    .dataframe tbody tr th:only-of-type {\n",
       "        vertical-align: middle;\n",
       "    }\n",
       "\n",
       "    .dataframe tbody tr th {\n",
       "        vertical-align: top;\n",
       "    }\n",
       "\n",
       "    .dataframe thead th {\n",
       "        text-align: right;\n",
       "    }\n",
       "</style>\n",
       "<table border=\"1\" class=\"dataframe\">\n",
       "  <thead>\n",
       "    <tr style=\"text-align: right;\">\n",
       "      <th></th>\n",
       "      <th>host</th>\n",
       "      <th>timestamp</th>\n",
       "      <th>Request</th>\n",
       "      <th>Status</th>\n",
       "      <th>size</th>\n",
       "    </tr>\n",
       "  </thead>\n",
       "  <tbody>\n",
       "    <tr>\n",
       "      <th>724831</th>\n",
       "      <td>local</td>\n",
       "      <td>11/Oct/1995:14:11:39 -0600</td>\n",
       "      <td>GET 2.gif HTTP/1.0</td>\n",
       "      <td>200</td>\n",
       "      <td>2555</td>\n",
       "    </tr>\n",
       "    <tr>\n",
       "      <th>724832</th>\n",
       "      <td>local</td>\n",
       "      <td>11/Oct/1995:14:11:40 -0600</td>\n",
       "      <td>GET 3.gif HTTP/1.0</td>\n",
       "      <td>200</td>\n",
       "      <td>36403</td>\n",
       "    </tr>\n",
       "    <tr>\n",
       "      <th>724833</th>\n",
       "      <td>local</td>\n",
       "      <td>11/Oct/1995:14:11:45 -0600</td>\n",
       "      <td>GET 11459.html HTTP/1.0</td>\n",
       "      <td>404</td>\n",
       "      <td>0</td>\n",
       "    </tr>\n",
       "    <tr>\n",
       "      <th>724834</th>\n",
       "      <td>local</td>\n",
       "      <td>11/Oct/1995:14:11:58 -0600</td>\n",
       "      <td>GET 11459.html HTTP/1.0</td>\n",
       "      <td>404</td>\n",
       "      <td>0</td>\n",
       "    </tr>\n",
       "    <tr>\n",
       "      <th>724835</th>\n",
       "      <td>local</td>\n",
       "      <td>11/Oct/1995:14:14:17 -0600</td>\n",
       "      <td>GET index.html HTTP/1.0</td>\n",
       "      <td>304</td>\n",
       "      <td>0</td>\n",
       "    </tr>\n",
       "  </tbody>\n",
       "</table>\n",
       "</div>"
      ],
      "text/plain": [
       "         host                   timestamp                  Request Status  \\\n",
       "724831  local  11/Oct/1995:14:11:39 -0600       GET 2.gif HTTP/1.0    200   \n",
       "724832  local  11/Oct/1995:14:11:40 -0600       GET 3.gif HTTP/1.0    200   \n",
       "724833  local  11/Oct/1995:14:11:45 -0600  GET 11459.html HTTP/1.0    404   \n",
       "724834  local  11/Oct/1995:14:11:58 -0600  GET 11459.html HTTP/1.0    404   \n",
       "724835  local  11/Oct/1995:14:14:17 -0600  GET index.html HTTP/1.0    304   \n",
       "\n",
       "         size  \n",
       "724831   2555  \n",
       "724832  36403  \n",
       "724833      0  \n",
       "724834      0  \n",
       "724835      0  "
      ]
     },
     "execution_count": 28,
     "metadata": {},
     "output_type": "execute_result"
    }
   ],
   "source": [
    "df.tail()"
   ]
  },
  {
   "cell_type": "code",
   "execution_count": 29,
   "id": "8a2fef07-feec-4e3f-a23a-3169a577353f",
   "metadata": {},
   "outputs": [],
   "source": [
    "##Parsing timestamp string to datetime object\n",
    "df['timestamp'] = pd.to_datetime(df['timestamp'], format = '%d/%b/%Y:%H:%M:%S %z', errors = 'coerce', utc =True)"
   ]
  },
  {
   "cell_type": "code",
   "execution_count": 31,
   "id": "014866e8-c2e5-426e-bb00-770f26fedf3d",
   "metadata": {},
   "outputs": [],
   "source": [
    "# Extracting filename from request column\n",
    "df['method'] = df['Request'].str.split().str[0]\n",
    "df['filename'] = df['Request'].str.split().str[1]\n",
    "df['protocol'] = df['Request'].str.split().str[2]\n",
    "\n"
   ]
  },
  {
   "cell_type": "code",
   "execution_count": 35,
   "id": "d50e1fd0-a720-49c1-b22e-a2da7f9bdfe6",
   "metadata": {},
   "outputs": [],
   "source": [
    "# Extract fileextension from filename \n",
    "df['file_extension'] = df['filename'].str.extract(r'(\\.[a-zA-Z0-9]+)$', expand = False).fillna('')"
   ]
  },
  {
   "cell_type": "code",
   "execution_count": 37,
   "id": "4d2ebdde-c186-4da8-b10e-7a583e904af1",
   "metadata": {},
   "outputs": [
    {
     "name": "stdout",
     "output_type": "stream",
     "text": [
      "    host                 timestamp Status   size method    filename  protocol  \\\n",
      "0  local 1994-10-24 19:41:41+00:00    200    150    GET  index.html  HTTP/1.0   \n",
      "1  local 1994-10-24 19:41:41+00:00    200   1210    GET       1.gif  HTTP/1.0   \n",
      "2  local 1994-10-24 19:43:13+00:00    200   3185    GET  index.html  HTTP/1.0   \n",
      "3  local 1994-10-24 19:43:14+00:00    200   2555    GET       2.gif  HTTP/1.0   \n",
      "4  local 1994-10-24 19:43:15+00:00    200  36403    GET       3.gif  HTTP/1.0   \n",
      "\n",
      "  file_extension  \n",
      "0          .html  \n",
      "1           .gif  \n",
      "2          .html  \n",
      "3           .gif  \n",
      "4           .gif  \n"
     ]
    }
   ],
   "source": [
    "#Dropping the original request column\n",
    "df.drop(columns = ['Request'], inplace = True)\n",
    "print(df.head())"
   ]
  },
  {
   "cell_type": "code",
   "execution_count": 38,
   "id": "cf071a69-4391-411c-ad41-5d2d4a553b72",
   "metadata": {},
   "outputs": [],
   "source": [
    "## Converting data type of status to int\n",
    "df['Status'] = df['Status'].astype(int)"
   ]
  },
  {
   "cell_type": "code",
   "execution_count": 39,
   "id": "7eb46441-af70-431a-bf62-ce125e3b8a9a",
   "metadata": {},
   "outputs": [
    {
     "name": "stdout",
     "output_type": "stream",
     "text": [
      "<class 'pandas.core.frame.DataFrame'>\n",
      "RangeIndex: 724836 entries, 0 to 724835\n",
      "Data columns (total 8 columns):\n",
      " #   Column          Non-Null Count   Dtype              \n",
      "---  ------          --------------   -----              \n",
      " 0   host            724836 non-null  object             \n",
      " 1   timestamp       724836 non-null  datetime64[ns, UTC]\n",
      " 2   Status          724836 non-null  int32              \n",
      " 3   size            724836 non-null  int32              \n",
      " 4   method          724836 non-null  object             \n",
      " 5   filename        724836 non-null  object             \n",
      " 6   protocol        723263 non-null  object             \n",
      " 7   file_extension  724836 non-null  object             \n",
      "dtypes: datetime64[ns, UTC](1), int32(2), object(5)\n",
      "memory usage: 38.7+ MB\n"
     ]
    }
   ],
   "source": [
    "df.info()"
   ]
  },
  {
   "cell_type": "code",
   "execution_count": 40,
   "id": "4edd874e-8140-4f32-907f-6440471089e3",
   "metadata": {},
   "outputs": [
    {
     "data": {
      "text/html": [
       "<div>\n",
       "<style scoped>\n",
       "    .dataframe tbody tr th:only-of-type {\n",
       "        vertical-align: middle;\n",
       "    }\n",
       "\n",
       "    .dataframe tbody tr th {\n",
       "        vertical-align: top;\n",
       "    }\n",
       "\n",
       "    .dataframe thead th {\n",
       "        text-align: right;\n",
       "    }\n",
       "</style>\n",
       "<table border=\"1\" class=\"dataframe\">\n",
       "  <thead>\n",
       "    <tr style=\"text-align: right;\">\n",
       "      <th></th>\n",
       "      <th>host</th>\n",
       "      <th>timestamp</th>\n",
       "      <th>Status</th>\n",
       "      <th>size</th>\n",
       "      <th>method</th>\n",
       "      <th>filename</th>\n",
       "      <th>protocol</th>\n",
       "      <th>file_extension</th>\n",
       "    </tr>\n",
       "  </thead>\n",
       "  <tbody>\n",
       "    <tr>\n",
       "      <th>724831</th>\n",
       "      <td>local</td>\n",
       "      <td>1995-10-11 20:11:39+00:00</td>\n",
       "      <td>200</td>\n",
       "      <td>2555</td>\n",
       "      <td>GET</td>\n",
       "      <td>2.gif</td>\n",
       "      <td>HTTP/1.0</td>\n",
       "      <td>.gif</td>\n",
       "    </tr>\n",
       "    <tr>\n",
       "      <th>724832</th>\n",
       "      <td>local</td>\n",
       "      <td>1995-10-11 20:11:40+00:00</td>\n",
       "      <td>200</td>\n",
       "      <td>36403</td>\n",
       "      <td>GET</td>\n",
       "      <td>3.gif</td>\n",
       "      <td>HTTP/1.0</td>\n",
       "      <td>.gif</td>\n",
       "    </tr>\n",
       "    <tr>\n",
       "      <th>724833</th>\n",
       "      <td>local</td>\n",
       "      <td>1995-10-11 20:11:45+00:00</td>\n",
       "      <td>404</td>\n",
       "      <td>0</td>\n",
       "      <td>GET</td>\n",
       "      <td>11459.html</td>\n",
       "      <td>HTTP/1.0</td>\n",
       "      <td>.html</td>\n",
       "    </tr>\n",
       "    <tr>\n",
       "      <th>724834</th>\n",
       "      <td>local</td>\n",
       "      <td>1995-10-11 20:11:58+00:00</td>\n",
       "      <td>404</td>\n",
       "      <td>0</td>\n",
       "      <td>GET</td>\n",
       "      <td>11459.html</td>\n",
       "      <td>HTTP/1.0</td>\n",
       "      <td>.html</td>\n",
       "    </tr>\n",
       "    <tr>\n",
       "      <th>724835</th>\n",
       "      <td>local</td>\n",
       "      <td>1995-10-11 20:14:17+00:00</td>\n",
       "      <td>304</td>\n",
       "      <td>0</td>\n",
       "      <td>GET</td>\n",
       "      <td>index.html</td>\n",
       "      <td>HTTP/1.0</td>\n",
       "      <td>.html</td>\n",
       "    </tr>\n",
       "  </tbody>\n",
       "</table>\n",
       "</div>"
      ],
      "text/plain": [
       "         host                 timestamp  Status   size method    filename  \\\n",
       "724831  local 1995-10-11 20:11:39+00:00     200   2555    GET       2.gif   \n",
       "724832  local 1995-10-11 20:11:40+00:00     200  36403    GET       3.gif   \n",
       "724833  local 1995-10-11 20:11:45+00:00     404      0    GET  11459.html   \n",
       "724834  local 1995-10-11 20:11:58+00:00     404      0    GET  11459.html   \n",
       "724835  local 1995-10-11 20:14:17+00:00     304      0    GET  index.html   \n",
       "\n",
       "        protocol file_extension  \n",
       "724831  HTTP/1.0           .gif  \n",
       "724832  HTTP/1.0           .gif  \n",
       "724833  HTTP/1.0          .html  \n",
       "724834  HTTP/1.0          .html  \n",
       "724835  HTTP/1.0          .html  "
      ]
     },
     "execution_count": 40,
     "metadata": {},
     "output_type": "execute_result"
    }
   ],
   "source": [
    "df.tail()"
   ]
  },
  {
   "cell_type": "code",
   "execution_count": 44,
   "id": "628b1219-c6c3-4fe3-805d-652aa6546806",
   "metadata": {},
   "outputs": [
    {
     "name": "stdout",
     "output_type": "stream",
     "text": [
      "No_of_Request : 724836\n"
     ]
    }
   ],
   "source": [
    "# Q1 Total number of HTTP requests\n",
    "total_request = len(df)\n",
    "print('No_of_Request :', total_request)"
   ]
  },
  {
   "cell_type": "code",
   "execution_count": 45,
   "id": "ca4891c2-2cc9-43a3-b2e8-f2b03fbe0187",
   "metadata": {},
   "outputs": [
    {
     "name": "stdout",
     "output_type": "stream",
     "text": [
      "No_of_unique_host : 2\n"
     ]
    }
   ],
   "source": [
    "# Q2 Number of unique hosts\n",
    "unique_hosts = df['host'].nunique()\n",
    "print('No_of_unique_host :', unique_hosts)"
   ]
  },
  {
   "cell_type": "code",
   "execution_count": 48,
   "id": "ff5b1e9c-8d35-42c4-b8fb-f17f945d4909",
   "metadata": {},
   "outputs": [
    {
     "name": "stdout",
     "output_type": "stream",
     "text": [
      "unique_filename_count_datewise [(Timestamp('1994-10-24 19:41:41+0000', tz='UTC'), 2), (Timestamp('1994-10-24 19:43:13+0000', tz='UTC'), 1), (Timestamp('1994-10-24 19:43:14+0000', tz='UTC'), 1), (Timestamp('1994-10-24 19:43:15+0000', tz='UTC'), 1), (Timestamp('1994-10-24 19:43:17+0000', tz='UTC'), 1)]\n"
     ]
    }
   ],
   "source": [
    "# Q3 Date-wise unique filename counts\n",
    "date_unique_files = df.groupby('timestamp')['filename'].nunique().to_dict()\n",
    "print('unique_filename_count_datewise', list(date_unique_files.items())[:5])"
   ]
  },
  {
   "cell_type": "code",
   "execution_count": 51,
   "id": "19302e1e-2167-422b-82c1-bb7f2908cb10",
   "metadata": {},
   "outputs": [
    {
     "name": "stdout",
     "output_type": "stream",
     "text": [
      "404_response_count : 23517\n"
     ]
    }
   ],
   "source": [
    "# Q4 Number of 404 response codes\n",
    "count_404 = (df['Status'] == 404).sum()\n",
    "print('404_response_count :', count_404)"
   ]
  },
  {
   "cell_type": "code",
   "execution_count": 53,
   "id": "060fac4d-257b-4c5e-aa1f-dc4e5660f067",
   "metadata": {},
   "outputs": [
    {
     "name": "stdout",
     "output_type": "stream",
     "text": [
      "top_404_files : [('index.html', 4737), ('4115.html', 902), ('1611.html', 649), ('5698.xbm', 585), ('710.txt', 408), ('2002.html', 259), ('2177.gif', 193), ('10695.ps', 161), ('6555.html', 153), ('487.gif', 152), ('151.html', 149), ('40.html', 148), ('3414.gif', 148), ('488.gif', 148), ('9678.gif', 142)]\n"
     ]
    }
   ],
   "source": [
    "# Q5 Top 15 filenames with 404 responses\n",
    "top_404_files = (\n",
    "    df[df['Status'] == 404]\n",
    "    .groupby('filename')\n",
    "    .size()\n",
    "    .sort_values(ascending =False)\n",
    "    .head(15)\n",
    "    .reset_index(name = 'count')\n",
    ")\n",
    "\n",
    "print('top_404_files :' , list(zip(top_404_files['filename'], top_404_files['count'])))\n"
   ]
  },
  {
   "cell_type": "code",
   "execution_count": 55,
   "id": "2c1db75c-64ed-4c05-943b-bf9cbe32fb01",
   "metadata": {},
   "outputs": [
    {
     "name": "stdout",
     "output_type": "stream",
     "text": [
      "top_404_extension : [('.html', 12213), ('.gif', 7213), ('.xbm', 826), ('.ps', 754), ('.jpg', 527), ('', 505), ('.txt', 497), ('.GIF', 135), ('.htm', 109), ('.cgi', 77), ('.com', 46), ('.Z', 41), ('.dvi', 40), ('.ca', 36), ('.hmtl', 30)]\n"
     ]
    }
   ],
   "source": [
    "# Q6 Top 15 file extensions with 404 responses\n",
    "top_404_files = (\n",
    "    df[df['Status'] == 404]\n",
    "    .groupby('file_extension')\n",
    "    .size()\n",
    "    .sort_values(ascending =False)\n",
    "    .head(15)\n",
    "    .reset_index(name = 'count')\n",
    ")\n",
    "\n",
    "print('top_404_extension :' , list(zip(top_404_files['file_extension'], top_404_files['count'])))"
   ]
  },
  {
   "cell_type": "code",
   "execution_count": 57,
   "id": "0e662e99-5fab-4e39-b033-2aa90c952555",
   "metadata": {},
   "outputs": [
    {
     "data": {
      "text/plain": [
       "0    1994-10-24\n",
       "1    1994-10-24\n",
       "2    1994-10-24\n",
       "3    1994-10-24\n",
       "4    1994-10-24\n",
       "Name: date_Str, dtype: object"
      ]
     },
     "execution_count": 57,
     "metadata": {},
     "output_type": "execute_result"
    }
   ],
   "source": [
    "# Q7 Total bandwidth per day for july 1995\n",
    "df['date_Str'] = df['timestamp'].dt.strftime('%Y-%m-%d') #extracting date from timestamp\n",
    "df['date_Str'].head()"
   ]
  },
  {
   "cell_type": "code",
   "execution_count": 60,
   "id": "ca08eb41-418e-472a-8ab6-1236d3ba6a4a",
   "metadata": {},
   "outputs": [
    {
     "name": "stdout",
     "output_type": "stream",
     "text": [
      "Total_bandwidth_july_1995 : [('1995-07-01', 17002716), ('1995-07-02', 7895368), ('1995-07-03', 11741216), ('1995-07-04', 25070338), ('1995-07-05', 22468066)]\n"
     ]
    }
   ],
   "source": [
    "july_1995 = df[(df['timestamp'].dt.year == 1995) & (df['timestamp'].dt.month == 7) & (df['size']>0)]\n",
    "bandwidth_per_Day = july_1995.groupby('date_Str')['size'].sum().to_dict()\n",
    "print('Total_bandwidth_july_1995 :', list(bandwidth_per_Day.items())[:5])"
   ]
  },
  {
   "cell_type": "code",
   "execution_count": 62,
   "id": "001109a5-104a-4884-8ee1-d5649ae8f326",
   "metadata": {},
   "outputs": [
    {
     "name": "stdout",
     "output_type": "stream",
     "text": [
      "Hourly_request_distribution {0: 39610, 1: 32685, 2: 30736, 3: 28168, 4: 26027, 5: 22853, 6: 19868, 7: 17079, 8: 13879, 9: 11438, 10: 10574, 11: 10432, 12: 12319, 13: 15191, 14: 22093, 15: 30921, 16: 38019, 17: 46323, 18: 45768, 19: 50058, 20: 51160, 21: 52919, 22: 50514, 23: 46202}\n"
     ]
    }
   ],
   "source": [
    "# Q8 Hourly request distribution within 24 hours\n",
    "df['hour'] = df['timestamp'].dt.hour\n",
    "hourly_requests = df.groupby('hour').size().to_dict()\n",
    "print('Hourly_request_distribution', hourly_requests)"
   ]
  },
  {
   "cell_type": "code",
   "execution_count": 63,
   "id": "b0752120-c484-405a-8642-cbfbbfc9bbfb",
   "metadata": {},
   "outputs": [
    {
     "name": "stdout",
     "output_type": "stream",
     "text": [
      "Top_requested_filenames [('index.html', 140074), ('3.gif', 24006), ('2.gif', 23606), ('4.gif', 8018), ('244.gif', 5149), ('5.html', 5010), ('4097.gif', 4874), ('8870.jpg', 4493), ('6733.gif', 4278), ('8472.gif', 3843)]\n"
     ]
    }
   ],
   "source": [
    "# Q9 Top 10 most requested filenames\n",
    "top_files = (\n",
    "    df.groupby('filename')\n",
    "    .size()\n",
    "    .sort_values(ascending = False)\n",
    "    .head(10)\n",
    "    .reset_index(name='count')\n",
    ")\n",
    "print('Top_requested_filenames', list(zip(top_files['filename'], top_files['count'])))"
   ]
  },
  {
   "cell_type": "code",
   "execution_count": 65,
   "id": "3b67c8e8-d212-45eb-9f97-de4cda367682",
   "metadata": {},
   "outputs": [
    {
     "name": "stdout",
     "output_type": "stream",
     "text": [
      "HTTP_code_distribution : {200: 568345, 304: 97792, 302: 30295, 404: 23517, 403: 4741, 401: 46, 501: 43, 500: 42, 400: 15}\n"
     ]
    }
   ],
   "source": [
    "# Q10 HttP response code distribution\n",
    "status_counts = df['Status'].value_counts().to_dict()\n",
    "print('HTTP_code_distribution :' , status_counts)"
   ]
  },
  {
   "cell_type": "code",
   "execution_count": null,
   "id": "0df2d47a-0a47-456e-b859-03b6d2761664",
   "metadata": {},
   "outputs": [],
   "source": []
  }
 ],
 "metadata": {
  "kernelspec": {
   "display_name": "Python 3 (ipykernel)",
   "language": "python",
   "name": "python3"
  },
  "language_info": {
   "codemirror_mode": {
    "name": "ipython",
    "version": 3
   },
   "file_extension": ".py",
   "mimetype": "text/x-python",
   "name": "python",
   "nbconvert_exporter": "python",
   "pygments_lexer": "ipython3",
   "version": "3.11.7"
  }
 },
 "nbformat": 4,
 "nbformat_minor": 5
}
